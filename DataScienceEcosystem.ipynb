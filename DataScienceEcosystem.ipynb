{
 "cells": [
  {
   "cell_type": "markdown",
   "id": "0ce1a44b",
   "metadata": {},
   "source": [
    "# Data Science Tools and Ecosystem"
   ]
  },
  {
   "cell_type": "markdown",
   "id": "4ba99fd1",
   "metadata": {},
   "source": [
    "## Introduction\n",
    "In this notebook, Data Science Tools and Ecosystem are summarized."
   ]
  },
  {
   "cell_type": "markdown",
   "id": "8f2aaccc",
   "metadata": {},
   "source": [
    " **Objectives**\n",
    "\n",
    "- List popular languages for Data Science\n",
    "- Enumerate popular libraries for Data Science\n",
    "- Identify availbale tools for Data Science"
   ]
  },
  {
   "cell_type": "markdown",
   "id": "40a3376b",
   "metadata": {},
   "source": [
    "## Data Science Languages\n",
    "Some of the commonly used libraries used by Data Scientists include:\n",
    "\n",
    "   1. Pyhton\n",
    "   2. R\n",
    "   3. SQL\n",
    "   4. Java\n",
    "   5. Julia\n",
    "   6. Scala\n"
   ]
  },
  {
   "cell_type": "markdown",
   "id": "c2978ed7",
   "metadata": {},
   "source": [
    "## Data Science Libraries\n",
    "Some of the commonly used libraries used by Data Scientists include:\n",
    "    \n",
    "1. Pandas\n",
    "2. Numpy\n",
    "3. Matplotlib\n",
    "4. Seaborn\n",
    "5. ScikitLearn\n",
    "6. Keras\n"
   ]
  },
  {
   "cell_type": "markdown",
   "id": "91078bd7",
   "metadata": {},
   "source": [
    "## Data Science tools:\n",
    "|Data Science Tools  |\n",
    "|:----------------:|\n",
    "|Jupyter Notebook    |\n",
    "|R                   |\n",
    "|SQL                 |"
   ]
  },
  {
   "cell_type": "markdown",
   "id": "7867dd16",
   "metadata": {},
   "source": [
    "### Below are a few examples of evaluating arithmetic expressions in Python"
   ]
  },
  {
   "cell_type": "code",
   "execution_count": 1,
   "id": "442bc8ab",
   "metadata": {},
   "outputs": [
    {
     "data": {
      "text/plain": [
       "17"
      ]
     },
     "execution_count": 1,
     "metadata": {},
     "output_type": "execute_result"
    }
   ],
   "source": [
    "# This a simple arithmetic expression to mutiply then add integers\n",
    "\n",
    "(3*4)+5\n"
   ]
  },
  {
   "cell_type": "code",
   "execution_count": 3,
   "id": "03527757",
   "metadata": {},
   "outputs": [
    {
     "name": "stdout",
     "output_type": "stream",
     "text": [
      "Enter minutes:200\n",
      "3 hours and 20 minutes\n"
     ]
    }
   ],
   "source": [
    "# This will convert 200 minutes to hours by diving by 60\n",
    "\n",
    "Input = int(input(\"Enter minutes:\"))\n",
    "Hour = Input//60\n",
    "Minutes = Input%60\n",
    "\n",
    "print(Hour, \"hours and\", Minutes, \"minutes\")"
   ]
  },
  {
   "cell_type": "markdown",
   "id": "ec2e9e6c",
   "metadata": {},
   "source": [
    "## Author\n",
    "----\n",
    "Abel Lucido"
   ]
  }
 ],
 "metadata": {
  "kernelspec": {
   "display_name": "Python 3",
   "language": "python",
   "name": "python3"
  },
  "language_info": {
   "codemirror_mode": {
    "name": "ipython",
    "version": 3
   },
   "file_extension": ".py",
   "mimetype": "text/x-python",
   "name": "python",
   "nbconvert_exporter": "python",
   "pygments_lexer": "ipython3",
   "version": "3.8.8"
  }
 },
 "nbformat": 4,
 "nbformat_minor": 5
}
